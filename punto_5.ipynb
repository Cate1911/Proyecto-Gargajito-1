#declarar variables
x: float
y: float
w: float
#pedir al usuario que ingrese los numeros
x=float(input("ingrese el primer numero:"))
y=float(input("ingrese el segundo numero:"))
w=float(input("ingrese el tercer numero:"))

#operaciones

if x+y==w:
  print("la suma de los dos primeros numeros es igual al tercero")
elif x+y<w:
  print("la suma de los dos primeros numeros es menor al tercero")
elif x+y>w:
  print("la suma de los dos primeros numeros es mayor al tercero")
