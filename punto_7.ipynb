#Declarar las variables
a : float 
b : float
c : float
d : float
e : float
#Pedirle al usuario que ingrese un número
a = float(input("Ingrese el primer número:"))
b = float(input("Ingrese el segundo número:"))
c = float(input("Ingrese el tercer número:"))
d = float(input("Ingrese el cuarto número:"))
e = float(input("Ingrese el quinto número:"))
#Calcular el promedio de los números
el_promedio = (a+b+c+d+e)/5
#Mostrar el resultado del promedio
print("El promedio de los número ingresados es "+(str)(el_promedio))
#Calcular el promedio multiplicativo de los números
el_promedio_multiplicativo= ((a*b*c*d*e)**(1/5))
#Mostrar el resultado del promedio multiplicativo
print("El promedio multiplicativo de los números es "+(str)(el_promedio_multiplicativo))
#Crear una lista de los números ingresados
lista_normal = [a, b, c, d, e]
#Ordenar los números de forma ascendente y descendente
lista_ascendente = sorted(lista_normal)
lista_descendente = sorted(lista_normal, reverse = True)
#Mostrar los números ordenados de forma ascendente y descendente
print("Los números ordenados de forma ascendente: "+(str)(lista_ascendente))
print("Los números ordenados de forma descendente: "+(str)(lista_descendente))
#Ordenar la lista de manera ascendente
lista_normal.sort()
#Calcular la mediana
numero_de_datos = len(lista_normal)
mediana = lista_normal[numero_de_datos // 2]
#Mostrar el valor de la mediana
print("La mediana de los datos es "+(str)(mediana))
#Definir el número mayor de la lista
mayor : float = max(lista_normal)
#Definir el número menor de la lista
menor : float = min(lista_normal)
#Evaluar los distintos casos
if a == b == c == d == e:
  print("Todos los números son iguales, entonces, cualquiera de los números elevado a otro da "+(str)(a**b))
  print("Todos los números son iguales, entonces, la raíz cúbica de cualquiera de los número es "+(str)(a**(1/3)))
else:
  print("La potencia del mayor número elevado al menor número es "+(str)(mayor**menor))
  print("La raíz cúbica del menor número es "+(str)(menor**(1/3)))
