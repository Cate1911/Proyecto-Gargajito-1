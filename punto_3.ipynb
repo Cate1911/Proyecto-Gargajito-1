#declarar variables
x:int
#pedir al ususario que ingrese un numero
x=int(input("ingrese un numero entero:"))
#asignacion con residuo
if x%2 == 0:
  print("el numero que ingreso es par")
else:
  print("el numero que ingreso es impar")
