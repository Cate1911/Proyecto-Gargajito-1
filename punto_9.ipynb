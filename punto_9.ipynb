#declarar variables y pedir al usuario que ingrse un pais
lang=input("escriba el nombre de un pais en minúsculas y sin tildes:")     
match lang:
    case "canada":                                 #añadir todos los paise pertenecientes a el continente de America
        print("la capital es Otawwa")
    case "estado unidos":                            
        print("la capital es Washington DC.")
    case "mexico":
        print("la capital es Ciudad de mexico")
    case "belice":
        print("la capital es Belmopán")
    case "costa rica":
        print("la capital es San José")
    case "el salvador":
        print("la capital es San Salvador")
    case "guatemala":
        print("la capital es Ciudad de Guatemala")
    case "honduras":
        print("la capital es Tegucigalpa")
    case "nicaragua":
        print("la capital es Managua")
    case "panama":
        print("la capital es Ciudad de Panamá")
    case "argentina":
        print("la capital es Buenos Aires ")
    case "bolivia":
        print("politicamente la capital es Sucre")
    case "brasil":
        print("la capital es Brasilia")
    case "chile":
        print("la capital es Santiago de Chile")
    case "":
        print("la capital es ")
    case "colombia":
        print("la capital es Bogotá")
    case "ecuador":
        print("la capital es Quito ")
    case "paraguay":
        print("la capital es Asunción")
    case "peru":
        print("la capital es Limas ")
    case "surinam":
        print("la capital es Parabarimo")
    case "trinidad y tobago":
        print("la capital es Puerto España")
    case "uruguay":
        print("la capital es Montevideo ")
    case "venezuela":
        print("la capital es Caracas")
    case "antigua y barbuda":
        print("la capital es  Saint John.")
    case "bahamas":
        print("la capital es Nasáu ")
    case "barbados":
        print("la capital es Bridgetown")
    case "cuba":
        print("la capital es La Habana ")
    case "dominica":
        print("la capital es Roseau")
    case "granada":
        print("la capital es Saint George")
    case "guyana":
        print("la capital es Georgetown.")
    case "haiti":
        print("la capital es Puerto Príncipe")
    case "jamaica":
        print("la capital es kingston ")
    case "republica dominicana":
        print("la capital es Santo Domingo")
    case "san cristobal y nieves":
        print("la capital es Basseterre")
    case "san vicente y las granadinas":
        print("la capital es Kingstown")
    case "santa lucia":
        print("la capital es Castries")
    case _:
        print("país no identificado")
